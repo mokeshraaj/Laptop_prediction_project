{
  "cells": [
    {
      "cell_type": "code",
      "source": [
        "import pandas as pd\n",
        "import numpy as np\n",
        "from sklearn.linear_model import LinearRegression\n",
        "from sklearn.model_selection import train_test_split\n",
        "from sklearn.preprocessing import OneHotEncoder\n",
        "from sklearn.compose import ColumnTransformer\n",
        "from sklearn.pipeline import Pipeline\n",
        "from sklearn.metrics import r2_score, mean_squared_error\n",
        "import math"
      ],
      "metadata": {
        "id": "89ea68iCKL3B"
      },
      "execution_count": 24,
      "outputs": []
    },
    {
      "cell_type": "code",
      "source": [
        "df = pd.read_csv('laptop_price.csv', encoding='latin1')"
      ],
      "metadata": {
        "id": "GlomKLgqL5fg"
      },
      "execution_count": 25,
      "outputs": []
    },
    {
      "cell_type": "code",
      "source": [
        "\n",
        "df['Ram'] = df['Ram'].str.replace('GB', '').astype(int)\n",
        "df['Weight'] = df['Weight'].str.replace('kg', '').astype(float)\n",
        "df.drop(columns=['laptop_ID'], inplace=True)\n",
        "\n",
        "\n",
        "X = df.drop(columns=['Price_euros'])\n",
        "y = df['Price_euros']\n",
        "\n",
        "\n",
        "categorical_cols = X.select_dtypes(include='object').columns.tolist()\n",
        "numeric_cols = X.select_dtypes(exclude='object').columns.tolist()\n",
        "\n",
        "preprocessor = ColumnTransformer([\n",
        "    ('cat', OneHotEncoder(handle_unknown='ignore'), categorical_cols)\n",
        "], remainder='passthrough')\n",
        "\n",
        "\n",
        "model = Pipeline([\n",
        "    ('preprocessing', preprocessor),\n",
        "    ('regressor', LinearRegression())])"
      ],
      "metadata": {
        "id": "amRIOxLaKLtl"
      },
      "execution_count": 26,
      "outputs": []
    },
    {
      "cell_type": "code",
      "source": [
        "print(df.columns.tolist())\n"
      ],
      "metadata": {
        "colab": {
          "base_uri": "https://localhost:8080/"
        },
        "id": "N73QDHhRNGKj",
        "outputId": "7141211d-3578-4123-9d7f-98d5d478ab6a"
      },
      "execution_count": 29,
      "outputs": [
        {
          "output_type": "stream",
          "name": "stdout",
          "text": [
            "['Company', 'Product', 'TypeName', 'Inches', 'ScreenResolution', 'Cpu', 'Ram', 'Memory', 'Gpu', 'OpSys', 'Weight', 'Price_euros']\n"
          ]
        }
      ]
    },
    {
      "cell_type": "code",
      "source": [
        "\n",
        "X_train, X_test, y_train, y_test = train_test_split(X, y, test_size=0.2, random_state=42)\n",
        "model.fit(X_train, y_train)\n",
        "\n",
        "y_pred = model.predict(X_test)\n",
        "r2 = r2_score(y_test, y_pred)\n",
        "rmse = math.sqrt(mean_squared_error(y_test, y_pred))\n",
        "\n",
        "print(f\"R² Score: {r2:.2f}\")\n",
        "print(f\"RMSE: {rmse:.2f}\")"
      ],
      "metadata": {
        "colab": {
          "base_uri": "https://localhost:8080/"
        },
        "id": "LlOCU5apKLom",
        "outputId": "efb36834-b53e-4798-be0c-bdd68e3e280f"
      },
      "execution_count": 27,
      "outputs": [
        {
          "output_type": "stream",
          "name": "stdout",
          "text": [
            "R² Score: 0.84\n",
            "RMSE: 282.91\n"
          ]
        }
      ]
    },
    {
      "cell_type": "code",
      "source": [
        "def predict_price():\n",
        "    print(\"\\nEnter Laptop Specs:\")\n",
        "    data = {\n",
        "        'Company': input(\"Company: \"),\n",
        "        'Product': input(\"Product: \"),\n",
        "        'TypeName': input(\"Type (e.g., Ultrabook, Notebook): \"),\n",
        "        'Inches': float(input(\"Screen Size (in inches): \")),\n",
        "        'ScreenResolution': input(\"Screen Resolution (e.g., 1920x1080): \"),\n",
        "        'Cpu': input(\"CPU (e.g., Intel Core i5 2.5GHz): \"),\n",
        "        'Ram': int(input(\"RAM (in GB): \")),\n",
        "        'Memory': input(\"Memory (e.g., 256GB SSD): \"),\n",
        "        'Gpu': input(\"GPU (e.g., Intel HD Graphics 620): \"),\n",
        "        'OpSys': input(\"Operating System: \"),\n",
        "        'Weight': float(input(\"Weight (in kg): \"))}\n",
        "\n",
        "    user_df = pd.DataFrame([data])\n",
        "    predicted_price = model.predict(user_df)[0]\n",
        "    print(f\"\\n💻 Predicted Laptop Price: €{predicted_price:.2f}\")\n",
        "\n",
        "predict_price()"
      ],
      "metadata": {
        "colab": {
          "base_uri": "https://localhost:8080/"
        },
        "id": "3HgerL5yKLj7",
        "outputId": "9487f9da-ac56-438e-d9a8-e9409c608184"
      },
      "execution_count": null,
      "outputs": [
        {
          "output_type": "stream",
          "name": "stdout",
          "text": [
            "\n",
            "Enter Laptop Specs:\n"
          ]
        }
      ]
    }
  ],
  "metadata": {
    "accelerator": "GPU",
    "colab": {
      "gpuType": "T4",
      "provenance": []
    },
    "kernelspec": {
      "display_name": "Python 3",
      "name": "python3"
    },
    "language_info": {
      "name": "python"
    }
  },
  "nbformat": 4,
  "nbformat_minor": 0
}